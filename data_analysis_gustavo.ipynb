{
 "cells": [
  {
   "cell_type": "code",
<<<<<<< HEAD
   "execution_count": 2,
=======
   "execution_count": 9,
>>>>>>> 5998908 (Alteração no notebook)
   "metadata": {
    "tags": []
   },
   "outputs": [],
   "source": [
    "import data_analisy as da\n",
    "import data_cleaner as dc\n",
    "import matplotlib as mp\n",
    "import pandas as pd"
   ]
  },
  {
   "cell_type": "markdown",
   "metadata": {},
   "source": [
    "# Leitura e tratamento da base de dados\n",
    "\n",
    "Antes de qualquer coisa, precisamos usar as funções do modulo **data_cleaner** para ler e tratar os dados:"
   ]
  },
  {
   "cell_type": "code",
<<<<<<< HEAD
   "execution_count": 3,
=======
   "execution_count": 10,
>>>>>>> 5998908 (Alteração no notebook)
   "metadata": {},
   "outputs": [],
   "source": [
    "dataframe_without_tratament = dc.csv_to_dataframe('censo_escolar_2021.csv')\n",
    "dataframe_treated = dc.remove_colunas_irrelevantes(dataframe_without_tratament, 3600)"
   ]
  },
  {
   "cell_type": "markdown",
   "metadata": {},
   "source": [
    "# Análise de dados \n",
    "Antes de qualquer coisa, é necessário realizar uma analise da na base de dados. Então, iniciaremos por ai.  \n",
    "\n",
    "Para começar vamos analisar as medidas de resumo de algumas colunas.\n",
    "\n",
    "### Análise da coluna \"QT_EQUIP_TV\"\n",
    "\n",
    "Aqui, vamos começar analisando a coluna que descreve a **quantidade de equipamentos de TV**  existente na escola."
   ]
  },
  {
   "cell_type": "code",
<<<<<<< HEAD
   "execution_count": 4,
=======
   "execution_count": 11,
>>>>>>> 5998908 (Alteração no notebook)
   "metadata": {},
   "outputs": [
    {
     "name": "stdout",
     "output_type": "stream",
     "text": [
      "A média é: 94.653; \n",
      "A mediana é: 0.0; \n",
      "A moda é: 0\n",
      "O desvio padrão é: 2884.967; \n",
      "A variância é: 8323031.879; \n",
      "O valor máximo é: 88888; \n",
      "O valor mínimo é: 0; \n",
      "A amplitude é de: 88888\n"
     ]
    }
   ],
   "source": [
    "tv_measure_tendency = da.measure_tendency(dataframe_treated, 'QT_EQUIP_TV')\n",
    "tv_measure_dipresion = da.measure_dispersion(dataframe_treated, 'QT_EQUIP_TV')\n",
    "\n",
    "print(f'A média é: {tv_measure_tendency[0]}; \\nA mediana é: {tv_measure_tendency[1]}; \\nA moda é: {tv_measure_tendency[2]}')\n",
    "print(f'O desvio padrão é: {tv_measure_dipresion[0]}; \\nA variância é: {tv_measure_dipresion[1]}; \\nO valor máximo é: {tv_measure_dipresion[2]}; \\nO valor mínimo é: {tv_measure_dipresion[3]}; \\nA amplitude é de: {tv_measure_dipresion[4]}')"
   ]
  },
  {
   "cell_type": "markdown",
   "metadata": {},
   "source": [
    "Já com essa análise, podemos observar um resultado estranho. Um valor máximo de **88888** televisores em uma escola é algo irreal. Então, devemos investigar melhor a ocorrência desse valor. Inicialmente, podemos supor algumas causas prováveis:  \n",
    "\n",
    "* Erro de digitação;\n",
    "* Um código criado para indicar algo;\n",
    "* Valor coorespondente a outra coluna.\n",
    "* Entre outras...\n",
    "\n",
    "Nossa primeira abordagem para identificar o problema é descobrir quais são os valores que aparecem nessa base de dados, pois, além do 88888, podem aparecer outros valores extremos."
   ]
  },
  {
   "cell_type": "code",
<<<<<<< HEAD
   "execution_count": 5,
=======
   "execution_count": 12,
>>>>>>> 5998908 (Alteração no notebook)
   "metadata": {},
   "outputs": [
    {
     "data": {
      "text/plain": [
       "array([    0,     1,    18,     2,     3,     9,     7,    10,     5,\n",
       "          11,     4,     8,    15,     6, 88888,    21,    20,    17,\n",
       "          13,    22,    14,    16,    12,    25,    19,    50,    23,\n",
       "          32,    24,    45,    34,    26,    48,    64,    43,    30,\n",
       "          35,    81,    42])"
      ]
     },
<<<<<<< HEAD
     "execution_count": 5,
=======
     "execution_count": 12,
>>>>>>> 5998908 (Alteração no notebook)
     "metadata": {},
     "output_type": "execute_result"
    }
   ],
   "source": [
    "dataframe_treated['QT_EQUIP_TV'].unique()"
   ]
  },
  {
   "cell_type": "markdown",
   "metadata": {},
   "source": [
    "Esse é um resultado interessante. Muitos desses valores não condizem com a realidade da maior parte das escolas brasileiras, já que ter, por exemplo, uma escola 45 TVs,já não é algo tão alinhado com a realidade brasileira. Contudo, tudo dependa da frequencia do aparecimento desses valores, já que existir, em todo brasil, poucas escola com 40 televisões, não é algo impossivel. Junto a isso, podemos notar que por a mediana ser 0, mais da metade dos valores são 0, indicando que grande incidência de valores menores. Porém, por ter uma média em torno de 100, pode-se notar que esses outros valores, **principalmente o 88888** aparecem com uma frequência considerável.  \n",
    "Então, vamos analisar a frequência desses valores:\n"
   ]
  },
  {
   "cell_type": "code",
<<<<<<< HEAD
   "execution_count": 6,
=======
   "execution_count": 13,
>>>>>>> 5998908 (Alteração no notebook)
   "metadata": {},
   "outputs": [
    {
     "name": "stdout",
     "output_type": "stream",
     "text": [
      "{0: 41724, 1: 23242, 2: 8732, 3: 3114, 4: 1464, 5: 754, 6: 381, 7: 257, 8: 204, 10: 152, 9: 109, 88888: 85, 11: 79, 12: 75, 13: 41, 14: 33, 20: 31, 16: 25, 15: 19, 17: 15, 18: 13, 19: 11, 22: 8, 21: 7, 25: 5, 23: 4, 24: 3, 50: 2, 32: 2, 45: 2, 34: 2, 26: 2, 30: 2, 48: 1, 64: 1, 43: 1, 35: 1, 81: 1, 42: 1}\n"
     ]
    }
   ],
   "source": [
    "print(dataframe_treated['QT_EQUIP_TV'].value_counts().to_dict())"
   ]
  },
  {
   "cell_type": "markdown",
   "metadata": {},
   "source": [
    "Assim, podemos notar que todos esses valores se tratam de **outliers**. Podemos verificar isso usando os quartis posteriormente. Por agora, outra coisa interessante de se analisar, é que há a ocorrência de 85 valores 88888, o que descarta a possibilidade de ser um erro de digitação. Então, a próxima análise apropriada, é verificar o que consta no dicionário de dados.  \n",
    "Com o dicionário de dados, conseguimos entender de onde vem o esse valor. Segundo consta no dicionário:  \n",
    "\n",
    "<center>'88888 - registro com marcação de valor extremo (valor superior ao limite máximo de 4 equipamentos para cada 3 salas existentes - foram marcados apenas valores>3)'</center>\n",
    "\n",
    "Ou seja, esses valores são grandes a ponto de não serem retratados, mas nem perto de 88888. Com isso, podemos escolher duas abordagem para tratar esse dado.  \n",
    "\n",
    "1. Podemos simplesmente excluir as linhas com esses dados, já que são apenas 85 ocorrências;\n",
    "2. Podemos substituir pelo maior valor retratado, mantendo a informação que se trata de um outlier.\n",
    "\n",
    "Dessas, a que ha menor perda de informação é a segunda opção. Contudo iremos executar as duas para ver a diferença entre as abordagens."
   ]
  },
  {
   "cell_type": "code",
<<<<<<< HEAD
   "execution_count": 7,
=======
   "execution_count": 14,
>>>>>>> 5998908 (Alteração no notebook)
   "metadata": {},
   "outputs": [
    {
     "name": "stdout",
     "output_type": "stream",
     "text": [
      "Retirando os valores 88888 ficamos com:\n",
      "A média é: 0.919; \n",
      "A mediana é: 0.0; \n",
      "A moda é: 0\n",
      "O desvio padrão é: 1.732; \n",
      "A variância é: 2.999; \n",
      "O valor máximo é: 81; \n",
      "O valor mínimo é: 0; \n",
      "A amplitude é de: 81 \n",
      "\n",
      "Alterando os valores 88888 para 81 ficamos com:\n",
      "A média é: 1.004; \n",
      "A mediana é: 0.0; \n",
      "A moda é: 0\n",
      "O desvio padrão é: 3.123; \n",
      "A variância é: 9.751; \n",
      "O valor máximo é: 81; \n",
      "O valor mínimo é: 0; \n",
      "A amplitude é de: 81 \n",
      "\n"
     ]
    }
   ],
   "source": [
    "serie_with_max_value = dataframe_treated.replace(88888, 81)\n",
    "serie_value_deleted = dataframe_treated.drop(dataframe_treated[dataframe_treated['QT_EQUIP_TV'] == 88888 ].index)\n",
    "\n",
    "tv_measure_tendency = da.measure_tendency(serie_value_deleted, 'QT_EQUIP_TV')\n",
    "tv_measure_dipresion = da.measure_dispersion(serie_value_deleted, 'QT_EQUIP_TV')\n",
    "\n",
    "print('Retirando os valores 88888 ficamos com:')\n",
    "print(f'A média é: {tv_measure_tendency[0]}; \\nA mediana é: {tv_measure_tendency[1]}; \\nA moda é: {tv_measure_tendency[2]}')\n",
    "print(f'O desvio padrão é: {tv_measure_dipresion[0]}; \\nA variância é: {tv_measure_dipresion[1]}; \\nO valor máximo é: {tv_measure_dipresion[2]}; \\nO valor mínimo é: {tv_measure_dipresion[3]}; \\nA amplitude é de: {tv_measure_dipresion[4]} \\n')\n",
    "\n",
    "tv_measure_tendency = da.measure_tendency(serie_with_max_value, 'QT_EQUIP_TV')\n",
    "tv_measure_dipresion = da.measure_dispersion(serie_with_max_value, 'QT_EQUIP_TV')\n",
    "\n",
    "print('Alterando os valores 88888 para 81 ficamos com:')\n",
    "print(f'A média é: {tv_measure_tendency[0]}; \\nA mediana é: {tv_measure_tendency[1]}; \\nA moda é: {tv_measure_tendency[2]}')\n",
    "print(f'O desvio padrão é: {tv_measure_dipresion[0]}; \\nA variância é: {tv_measure_dipresion[1]}; \\nO valor máximo é: {tv_measure_dipresion[2]}; \\nO valor mínimo é: {tv_measure_dipresion[3]}; \\nA amplitude é de: {tv_measure_dipresion[4]} \\n')\n",
    "\n"
   ]
  },
  {
   "cell_type": "markdown",
   "metadata": {},
   "source": [
<<<<<<< HEAD
    "Podemos ver que os valores da média são semelhantes, contudo, no desvio padrão e a variancia há uma grande diferença. Portanto, ficaremos com a estrategia com menos perca de informação entre as duas, que é substituindo os valores pelo maior valor da coluna."
=======
    "Podemos ver que os valores da média são semelhantes, contudo, no desvio padrão e a variancia há uma grande diferença. Portanto, ficaremos com a estrategia com menos perca de informação entre as duas, que é substituindo os valores pelço maior valor da coluna."
>>>>>>> 5998908 (Alteração no notebook)
   ]
  },
  {
   "cell_type": "code",
<<<<<<< HEAD
   
   "execution_count": 8,


=======
   "execution_count": 15,
>>>>>>> 5998908 (Alteração no notebook)
   "metadata": {},
   "outputs": [
    {
     "name": "stderr",
     "output_type": "stream",
     "text": [
      "/workspaces/a1_lp/data_cleaner.py:131: SettingWithCopyWarning: \n",
      "A value is trying to be set on a copy of a slice from a DataFrame\n",
      "\n",
      "See the caveats in the documentation: https://pandas.pydata.org/pandas-docs/stable/user_guide/indexing.html#returning-a-view-versus-a-copy\n",
      "  dataframe[column].replace(88888, int(max), inplace = True)\n"
     ]
    },
    {
<<<<<<< HEAD
     "name": "stdout",
     "output_type": "stream",
     "text": [
      "{0: 41724, 1: 23242, 2: 8732, 3: 3114, 4: 1464, 5: 754, 6: 381, 7: 257, 8: 204, 10: 152, 9: 109, 81: 86, 11: 79, 12: 75, 13: 41, 14: 33, 20: 31, 16: 25, 15: 19, 17: 15, 18: 13, 19: 11, 22: 8, 21: 7, 25: 5, 23: 4, 24: 3, 50: 2, 32: 2, 45: 2, 34: 2, 26: 2, 30: 2, 48: 1, 64: 1, 43: 1, 35: 1, 42: 1}\n"
     ]
=======
     "data": {
      "text/html": [
       "<div>\n",
       "<style scoped>\n",
       "    .dataframe tbody tr th:only-of-type {\n",
       "        vertical-align: middle;\n",
       "    }\n",
       "\n",
       "    .dataframe tbody tr th {\n",
       "        vertical-align: top;\n",
       "    }\n",
       "\n",
       "    .dataframe thead th {\n",
       "        text-align: right;\n",
       "    }\n",
       "</style>\n",
       "<table border=\"1\" class=\"dataframe\">\n",
       "  <thead>\n",
       "    <tr style=\"text-align: right;\">\n",
       "      <th></th>\n",
       "      <th>NU_ANO_CENSO</th>\n",
       "      <th>NO_REGIAO</th>\n",
       "      <th>CO_REGIAO</th>\n",
       "      <th>NO_UF</th>\n",
       "      <th>SG_UF</th>\n",
       "      <th>CO_UF</th>\n",
       "      <th>NO_MUNICIPIO</th>\n",
       "      <th>CO_MUNICIPIO</th>\n",
       "      <th>NO_MESORREGIAO</th>\n",
       "      <th>CO_MESORREGIAO</th>\n",
       "      <th>...</th>\n",
       "      <th>QT_TUR_FUND_AF</th>\n",
       "      <th>QT_TUR_MED</th>\n",
       "      <th>QT_TUR_PROF</th>\n",
       "      <th>QT_TUR_PROF_TEC</th>\n",
       "      <th>QT_TUR_EJA</th>\n",
       "      <th>QT_TUR_EJA_FUND</th>\n",
       "      <th>QT_TUR_EJA_MED</th>\n",
       "      <th>QT_TUR_ESP</th>\n",
       "      <th>QT_TUR_ESP_CC</th>\n",
       "      <th>QT_TUR_ESP_CE</th>\n",
       "    </tr>\n",
       "  </thead>\n",
       "  <tbody>\n",
       "    <tr>\n",
       "      <th>0</th>\n",
       "      <td>2021</td>\n",
       "      <td>Norte</td>\n",
       "      <td>1</td>\n",
       "      <td>Rond⌠nia</td>\n",
       "      <td>RO</td>\n",
       "      <td>11</td>\n",
       "      <td>Alta Floresta D'Oeste</td>\n",
       "      <td>1100015</td>\n",
       "      <td>Leste Rondoniense</td>\n",
       "      <td>1102</td>\n",
       "      <td>...</td>\n",
       "      <td>0.0</td>\n",
       "      <td>0.0</td>\n",
       "      <td>0.0</td>\n",
       "      <td>0.0</td>\n",
       "      <td>0.0</td>\n",
       "      <td>0.0</td>\n",
       "      <td>0.0</td>\n",
       "      <td>0.0</td>\n",
       "      <td>0.0</td>\n",
       "      <td>0.0</td>\n",
       "    </tr>\n",
       "    <tr>\n",
       "      <th>1</th>\n",
       "      <td>2021</td>\n",
       "      <td>Norte</td>\n",
       "      <td>1</td>\n",
       "      <td>Rond⌠nia</td>\n",
       "      <td>RO</td>\n",
       "      <td>11</td>\n",
       "      <td>Alta Floresta D'Oeste</td>\n",
       "      <td>1100015</td>\n",
       "      <td>Leste Rondoniense</td>\n",
       "      <td>1102</td>\n",
       "      <td>...</td>\n",
       "      <td>0.0</td>\n",
       "      <td>0.0</td>\n",
       "      <td>0.0</td>\n",
       "      <td>0.0</td>\n",
       "      <td>11.0</td>\n",
       "      <td>7.0</td>\n",
       "      <td>4.0</td>\n",
       "      <td>5.0</td>\n",
       "      <td>5.0</td>\n",
       "      <td>0.0</td>\n",
       "    </tr>\n",
       "    <tr>\n",
       "      <th>2</th>\n",
       "      <td>2021</td>\n",
       "      <td>Norte</td>\n",
       "      <td>1</td>\n",
       "      <td>Rond⌠nia</td>\n",
       "      <td>RO</td>\n",
       "      <td>11</td>\n",
       "      <td>Alta Floresta D'Oeste</td>\n",
       "      <td>1100015</td>\n",
       "      <td>Leste Rondoniense</td>\n",
       "      <td>1102</td>\n",
       "      <td>...</td>\n",
       "      <td>1.0</td>\n",
       "      <td>0.0</td>\n",
       "      <td>0.0</td>\n",
       "      <td>0.0</td>\n",
       "      <td>0.0</td>\n",
       "      <td>0.0</td>\n",
       "      <td>0.0</td>\n",
       "      <td>0.0</td>\n",
       "      <td>0.0</td>\n",
       "      <td>0.0</td>\n",
       "    </tr>\n",
       "    <tr>\n",
       "      <th>3</th>\n",
       "      <td>2021</td>\n",
       "      <td>Norte</td>\n",
       "      <td>1</td>\n",
       "      <td>Rond⌠nia</td>\n",
       "      <td>RO</td>\n",
       "      <td>11</td>\n",
       "      <td>Alta Floresta D'Oeste</td>\n",
       "      <td>1100015</td>\n",
       "      <td>Leste Rondoniense</td>\n",
       "      <td>1102</td>\n",
       "      <td>...</td>\n",
       "      <td>5.0</td>\n",
       "      <td>0.0</td>\n",
       "      <td>0.0</td>\n",
       "      <td>0.0</td>\n",
       "      <td>0.0</td>\n",
       "      <td>0.0</td>\n",
       "      <td>0.0</td>\n",
       "      <td>3.0</td>\n",
       "      <td>3.0</td>\n",
       "      <td>0.0</td>\n",
       "    </tr>\n",
       "    <tr>\n",
       "      <th>4</th>\n",
       "      <td>2021</td>\n",
       "      <td>Norte</td>\n",
       "      <td>1</td>\n",
       "      <td>Rond⌠nia</td>\n",
       "      <td>RO</td>\n",
       "      <td>11</td>\n",
       "      <td>Alta Floresta D'Oeste</td>\n",
       "      <td>1100015</td>\n",
       "      <td>Leste Rondoniense</td>\n",
       "      <td>1102</td>\n",
       "      <td>...</td>\n",
       "      <td>5.0</td>\n",
       "      <td>0.0</td>\n",
       "      <td>0.0</td>\n",
       "      <td>0.0</td>\n",
       "      <td>0.0</td>\n",
       "      <td>0.0</td>\n",
       "      <td>0.0</td>\n",
       "      <td>2.0</td>\n",
       "      <td>2.0</td>\n",
       "      <td>0.0</td>\n",
       "    </tr>\n",
       "    <tr>\n",
       "      <th>...</th>\n",
       "      <td>...</td>\n",
       "      <td>...</td>\n",
       "      <td>...</td>\n",
       "      <td>...</td>\n",
       "      <td>...</td>\n",
       "      <td>...</td>\n",
       "      <td>...</td>\n",
       "      <td>...</td>\n",
       "      <td>...</td>\n",
       "      <td>...</td>\n",
       "      <td>...</td>\n",
       "      <td>...</td>\n",
       "      <td>...</td>\n",
       "      <td>...</td>\n",
       "      <td>...</td>\n",
       "      <td>...</td>\n",
       "      <td>...</td>\n",
       "      <td>...</td>\n",
       "      <td>...</td>\n",
       "      <td>...</td>\n",
       "      <td>...</td>\n",
       "    </tr>\n",
       "    <tr>\n",
       "      <th>80600</th>\n",
       "      <td>2021</td>\n",
       "      <td>Nordeste</td>\n",
       "      <td>2</td>\n",
       "      <td>Alagoas</td>\n",
       "      <td>AL</td>\n",
       "      <td>27</td>\n",
       "      <td>Macei≤</td>\n",
       "      <td>2704302</td>\n",
       "      <td>Leste Alagoano</td>\n",
       "      <td>2703</td>\n",
       "      <td>...</td>\n",
       "      <td>0.0</td>\n",
       "      <td>0.0</td>\n",
       "      <td>0.0</td>\n",
       "      <td>0.0</td>\n",
       "      <td>0.0</td>\n",
       "      <td>0.0</td>\n",
       "      <td>0.0</td>\n",
       "      <td>1.0</td>\n",
       "      <td>1.0</td>\n",
       "      <td>0.0</td>\n",
       "    </tr>\n",
       "    <tr>\n",
       "      <th>80601</th>\n",
       "      <td>2021</td>\n",
       "      <td>Nordeste</td>\n",
       "      <td>2</td>\n",
       "      <td>Alagoas</td>\n",
       "      <td>AL</td>\n",
       "      <td>27</td>\n",
       "      <td>Macei≤</td>\n",
       "      <td>2704302</td>\n",
       "      <td>Leste Alagoano</td>\n",
       "      <td>2703</td>\n",
       "      <td>...</td>\n",
       "      <td>0.0</td>\n",
       "      <td>0.0</td>\n",
       "      <td>0.0</td>\n",
       "      <td>0.0</td>\n",
       "      <td>0.0</td>\n",
       "      <td>0.0</td>\n",
       "      <td>0.0</td>\n",
       "      <td>5.0</td>\n",
       "      <td>5.0</td>\n",
       "      <td>0.0</td>\n",
       "    </tr>\n",
       "    <tr>\n",
       "      <th>80602</th>\n",
       "      <td>2021</td>\n",
       "      <td>Nordeste</td>\n",
       "      <td>2</td>\n",
       "      <td>Alagoas</td>\n",
       "      <td>AL</td>\n",
       "      <td>27</td>\n",
       "      <td>Macei≤</td>\n",
       "      <td>2704302</td>\n",
       "      <td>Leste Alagoano</td>\n",
       "      <td>2703</td>\n",
       "      <td>...</td>\n",
       "      <td>0.0</td>\n",
       "      <td>0.0</td>\n",
       "      <td>0.0</td>\n",
       "      <td>0.0</td>\n",
       "      <td>0.0</td>\n",
       "      <td>0.0</td>\n",
       "      <td>0.0</td>\n",
       "      <td>0.0</td>\n",
       "      <td>0.0</td>\n",
       "      <td>0.0</td>\n",
       "    </tr>\n",
       "    <tr>\n",
       "      <th>80603</th>\n",
       "      <td>2021</td>\n",
       "      <td>Nordeste</td>\n",
       "      <td>2</td>\n",
       "      <td>Alagoas</td>\n",
       "      <td>AL</td>\n",
       "      <td>27</td>\n",
       "      <td>Macei≤</td>\n",
       "      <td>2704302</td>\n",
       "      <td>Leste Alagoano</td>\n",
       "      <td>2703</td>\n",
       "      <td>...</td>\n",
       "      <td>4.0</td>\n",
       "      <td>2.0</td>\n",
       "      <td>0.0</td>\n",
       "      <td>0.0</td>\n",
       "      <td>0.0</td>\n",
       "      <td>0.0</td>\n",
       "      <td>0.0</td>\n",
       "      <td>1.0</td>\n",
       "      <td>1.0</td>\n",
       "      <td>0.0</td>\n",
       "    </tr>\n",
       "    <tr>\n",
       "      <th>80604</th>\n",
       "      <td>2021</td>\n",
       "      <td>Nordeste</td>\n",
       "      <td>2</td>\n",
       "      <td>Alagoas</td>\n",
       "      <td>AL</td>\n",
       "      <td>27</td>\n",
       "      <td>Macei≤</td>\n",
       "      <td>2704302</td>\n",
       "      <td>Leste Alagoano</td>\n",
       "      <td>2703</td>\n",
       "      <td>...</td>\n",
       "      <td>NaN</td>\n",
       "      <td>NaN</td>\n",
       "      <td>NaN</td>\n",
       "      <td>NaN</td>\n",
       "      <td>NaN</td>\n",
       "      <td>NaN</td>\n",
       "      <td>NaN</td>\n",
       "      <td>NaN</td>\n",
       "      <td>NaN</td>\n",
       "      <td>NaN</td>\n",
       "    </tr>\n",
       "  </tbody>\n",
       "</table>\n",
       "<p>80605 rows × 364 columns</p>\n",
       "</div>"
      ],
      "text/plain": [
       "       NU_ANO_CENSO NO_REGIAO  CO_REGIAO     NO_UF SG_UF  CO_UF  \\\n",
       "0              2021     Norte          1  Rond⌠nia    RO     11   \n",
       "1              2021     Norte          1  Rond⌠nia    RO     11   \n",
       "2              2021     Norte          1  Rond⌠nia    RO     11   \n",
       "3              2021     Norte          1  Rond⌠nia    RO     11   \n",
       "4              2021     Norte          1  Rond⌠nia    RO     11   \n",
       "...             ...       ...        ...       ...   ...    ...   \n",
       "80600          2021  Nordeste          2   Alagoas    AL     27   \n",
       "80601          2021  Nordeste          2   Alagoas    AL     27   \n",
       "80602          2021  Nordeste          2   Alagoas    AL     27   \n",
       "80603          2021  Nordeste          2   Alagoas    AL     27   \n",
       "80604          2021  Nordeste          2   Alagoas    AL     27   \n",
       "\n",
       "                NO_MUNICIPIO  CO_MUNICIPIO     NO_MESORREGIAO  CO_MESORREGIAO  \\\n",
       "0      Alta Floresta D'Oeste       1100015  Leste Rondoniense            1102   \n",
       "1      Alta Floresta D'Oeste       1100015  Leste Rondoniense            1102   \n",
       "2      Alta Floresta D'Oeste       1100015  Leste Rondoniense            1102   \n",
       "3      Alta Floresta D'Oeste       1100015  Leste Rondoniense            1102   \n",
       "4      Alta Floresta D'Oeste       1100015  Leste Rondoniense            1102   \n",
       "...                      ...           ...                ...             ...   \n",
       "80600                 Macei≤       2704302     Leste Alagoano            2703   \n",
       "80601                 Macei≤       2704302     Leste Alagoano            2703   \n",
       "80602                 Macei≤       2704302     Leste Alagoano            2703   \n",
       "80603                 Macei≤       2704302     Leste Alagoano            2703   \n",
       "80604                 Macei≤       2704302     Leste Alagoano            2703   \n",
       "\n",
       "       ... QT_TUR_FUND_AF  QT_TUR_MED  QT_TUR_PROF  QT_TUR_PROF_TEC  \\\n",
       "0      ...            0.0         0.0          0.0              0.0   \n",
       "1      ...            0.0         0.0          0.0              0.0   \n",
       "2      ...            1.0         0.0          0.0              0.0   \n",
       "3      ...            5.0         0.0          0.0              0.0   \n",
       "4      ...            5.0         0.0          0.0              0.0   \n",
       "...    ...            ...         ...          ...              ...   \n",
       "80600  ...            0.0         0.0          0.0              0.0   \n",
       "80601  ...            0.0         0.0          0.0              0.0   \n",
       "80602  ...            0.0         0.0          0.0              0.0   \n",
       "80603  ...            4.0         2.0          0.0              0.0   \n",
       "80604  ...            NaN         NaN          NaN              NaN   \n",
       "\n",
       "      QT_TUR_EJA  QT_TUR_EJA_FUND  QT_TUR_EJA_MED  QT_TUR_ESP  QT_TUR_ESP_CC  \\\n",
       "0            0.0              0.0             0.0         0.0            0.0   \n",
       "1           11.0              7.0             4.0         5.0            5.0   \n",
       "2            0.0              0.0             0.0         0.0            0.0   \n",
       "3            0.0              0.0             0.0         3.0            3.0   \n",
       "4            0.0              0.0             0.0         2.0            2.0   \n",
       "...          ...              ...             ...         ...            ...   \n",
       "80600        0.0              0.0             0.0         1.0            1.0   \n",
       "80601        0.0              0.0             0.0         5.0            5.0   \n",
       "80602        0.0              0.0             0.0         0.0            0.0   \n",
       "80603        0.0              0.0             0.0         1.0            1.0   \n",
       "80604        NaN              NaN             NaN         NaN            NaN   \n",
       "\n",
       "      QT_TUR_ESP_CE  \n",
       "0               0.0  \n",
       "1               0.0  \n",
       "2               0.0  \n",
       "3               0.0  \n",
       "4               0.0  \n",
       "...             ...  \n",
       "80600           0.0  \n",
       "80601           0.0  \n",
       "80602           0.0  \n",
       "80603           0.0  \n",
       "80604           NaN  \n",
       "\n",
       "[80605 rows x 364 columns]"
      ]
     },
     "execution_count": 15,
     "metadata": {},
     "output_type": "execute_result"
>>>>>>> 5998908 (Alteração no notebook)
    }
   ],
   "source": [
    "dataframe_treated = dc.replace_88888_values(dataframe_treated)\n",
<<<<<<< HEAD
    "print(dataframe_treated['QT_EQUIP_TV'].value_counts().to_dict())"
   ]
  },
  {
   "cell_type": "markdown",
   "metadata": {},
   "source": [
    "Com isso, podemos fazer uma visualização que mostra a  media da quantidade de TVs nas escolas, por estados."
   ]
  },
  {
   "cell_type": "code",
   "execution_count": 19,
   "metadata": {},
   "outputs": [
    {
     "name": "stdout",
     "output_type": "stream",
     "text": [
      "SG_UF\n",
      "AC    0.724913\n",
      "AL    1.371659\n",
      "AM    1.254199\n",
      "AP    0.773019\n",
      "CE    1.250047\n",
      "MA    0.576402\n",
      "PA    0.744090\n",
      "PB    1.324406\n",
      "PE    1.282996\n",
      "PI    0.765839\n",
      "RN    0.965993\n",
      "RO    2.244584\n",
      "RR    1.121148\n",
      "TO    1.143213\n",
      "Name: QT_EQUIP_TV, dtype: float64\n"
     ]
    },
    {
     "data": {
      "image/png": "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",
      "text/plain": [
       "<Figure size 640x480 with 1 Axes>"
      ]
     },
     "metadata": {},
     "output_type": "display_data"
    }
   ],
   "source": [
    "import matplotlib.pyplot as plt\n",
    "\n",
    "media_tv_por_estado = dataframe_treated.groupby('SG_UF')['QT_EQUIP_TV'].mean()\n",
    "print(media_tv_por_estado)\n",
    "\n",
    "estados = list(media_tv_por_estado.index)\n",
    "media_tv = list(media_tv_por_estado.values)\n",
    "\n",
    "plt.bar(estados, media_tv)\n",
    "\n",
    "plt.title('Média da quantidade de TVs por escola, por estado')\n",
    "plt.xlabel('Estados')\n",
    "plt.ylabel('Quantidade média de TVs')\n",
    "plt.show()"
=======
    "dataframe_treated\n"
>>>>>>> 5998908 (Alteração no notebook)
   ]
  }
 ],
 "metadata": {
  "kernelspec": {
   "display_name": "Python 3",
   "language": "python",
   "name": "python3"
  },
  "language_info": {
   "codemirror_mode": {
    "name": "ipython",
    "version": 3
   },
   "file_extension": ".py",
   "mimetype": "text/x-python",
   "name": "python",
   "nbconvert_exporter": "python",
   "pygments_lexer": "ipython3",
   "version": "3.10.8"
  }
 },
 "nbformat": 4,
 "nbformat_minor": 2
}
