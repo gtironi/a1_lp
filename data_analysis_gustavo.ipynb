{
 "cells": [
  {
   "cell_type": "code",
   "execution_count": 5,
   "metadata": {
    "tags": []
   },
   "outputs": [
    {
     "name": "stdout",
     "output_type": "stream",
     "text": [
      "   Coluna1  Coluna2 Coluna3\n",
      "0       10      0.0     Ola\n",
      "1        8      NaN     Ola\n",
      "2       10     10.0     NaN\n",
      "3        2      4.0    Tudo\n",
      "A coluna Colunas3 não existe\n",
      "None\n"
     ]
    }
   ],
   "source": [
    "import data_analisy as da\n",
    "import data_cleaner as dc\n",
    "import matplotlib as mp\n",
    "import pandas as pd"
   ]
  },
  {
   "cell_type": "markdown",
   "metadata": {},
   "source": [
    "# Leitura e tratamento da base de dados\n",
    "\n",
    "Antes de qualquer coisa, precisamos usar as funções do modulo **data_cleaner** para ler e tratar os dados:"
   ]
  },
  {
   "cell_type": "code",
   "execution_count": 6,
   "metadata": {},
   "outputs": [],
   "source": [
    "dataframe_without_tratament = dc.csv_to_dataframe('censo_escolar_2021.csv')\n",
    "dataframe_treated = dc.remove_colunas_irrelevantes(dataframe_without_tratament, 3600)"
   ]
  },
  {
   "cell_type": "markdown",
   "metadata": {},
   "source": [
    "# Análise de dados \n",
    "Antes de qualquer coisa, é necessário realizar uma analise da na base de dados. Então, iniciaremos por ai.  \n",
    "\n",
    "Para começar vamos analisar as medidas de resumo de algumas colunas.\n",
    "\n",
    "### Análise da coluna \"QT_EQUIP_TV\"\n",
    "\n",
    "Aqui, vamos começar analisando a coluna que descreve a **quantidade de equipamentos de TV**  existente na escola."
   ]
  },
  {
   "cell_type": "code",
   "execution_count": 2,
   "metadata": {},
   "outputs": [
    {
     "ename": "NameError",
     "evalue": "name 'da' is not defined",
     "output_type": "error",
     "traceback": [
      "\u001b[0;31m---------------------------------------------------------------------------\u001b[0m",
      "\u001b[0;31mNameError\u001b[0m                                 Traceback (most recent call last)",
      "\u001b[1;32m/workspaces/a1_lp/data_analysis_gustavo.ipynb Cell 5\u001b[0m line \u001b[0;36m1\n\u001b[0;32m----> <a href='vscode-notebook-cell://codespaces%2Borange-space-telegram-qrw95vxrgw5h4pj7/workspaces/a1_lp/data_analysis_gustavo.ipynb#W4sdnNjb2RlLXJlbW90ZQ%3D%3D?line=0'>1</a>\u001b[0m tv_measure_tendency \u001b[39m=\u001b[39m da\u001b[39m.\u001b[39mmeasure_tendency(dataframe_treated, \u001b[39m'\u001b[39m\u001b[39mQT_EQUIP_TV\u001b[39m\u001b[39m'\u001b[39m)\n\u001b[1;32m      <a href='vscode-notebook-cell://codespaces%2Borange-space-telegram-qrw95vxrgw5h4pj7/workspaces/a1_lp/data_analysis_gustavo.ipynb#W4sdnNjb2RlLXJlbW90ZQ%3D%3D?line=1'>2</a>\u001b[0m tv_measure_dipresion \u001b[39m=\u001b[39m da\u001b[39m.\u001b[39mmeasure_dispersion(dataframe_treated, \u001b[39m'\u001b[39m\u001b[39mQT_EQUIP_TV\u001b[39m\u001b[39m'\u001b[39m)\n\u001b[1;32m      <a href='vscode-notebook-cell://codespaces%2Borange-space-telegram-qrw95vxrgw5h4pj7/workspaces/a1_lp/data_analysis_gustavo.ipynb#W4sdnNjb2RlLXJlbW90ZQ%3D%3D?line=3'>4</a>\u001b[0m \u001b[39mprint\u001b[39m(\u001b[39mf\u001b[39m\u001b[39m'\u001b[39m\u001b[39mA média é: \u001b[39m\u001b[39m{\u001b[39;00mtv_measure_tendency[\u001b[39m0\u001b[39m]\u001b[39m}\u001b[39;00m\u001b[39m; \u001b[39m\u001b[39m\\n\u001b[39;00m\u001b[39mA mediana é: \u001b[39m\u001b[39m{\u001b[39;00mtv_measure_tendency[\u001b[39m1\u001b[39m]\u001b[39m}\u001b[39;00m\u001b[39m; \u001b[39m\u001b[39m\\n\u001b[39;00m\u001b[39mA moda é: \u001b[39m\u001b[39m{\u001b[39;00mtv_measure_tendency[\u001b[39m2\u001b[39m]\u001b[39m}\u001b[39;00m\u001b[39m \u001b[39m\u001b[39m\\n\u001b[39;00m\u001b[39m'\u001b[39m)\n",
      "\u001b[0;31mNameError\u001b[0m: name 'da' is not defined"
     ]
    }
   ],
   "source": [
    "tv_measure_tendency = da.measure_tendency(dataframe_treated, 'QT_EQUIP_TV')\n",
    "tv_measure_dipresion = da.measure_dispersion(dataframe_treated, 'QT_EQUIP_TV')\n",
    "\n",
    "print(f'A média é: {tv_measure_tendency[0]}; \\nA mediana é: {tv_measure_tendency[1]}; \\nA moda é: {tv_measure_tendency[2]}')\n",
    "print(f'O desvio padrão é: {tv_measure_dipresion[0]}; \\nA variância é: {tv_measure_dipresion[1]}; \\nO valor máximo é: {tv_measure_dipresion[2]}; \\nO valor mínimo é: {tv_measure_dipresion[3]}; \\nA amplitude é de: {tv_measure_dipresion[4]}')"
   ]
  },
  {
   "cell_type": "markdown",
   "metadata": {},
   "source": [
    "Já com essa análise, podemos observar um resultado estranho. Um valor máximo de **88888** televisores em uma escola é algo irreal. Então, devemos investigar melhor a ocorrência desse valor. Inicialmente, podemos supor algumas causas prováveis:  \n",
    "\n",
    "* Erro de digitação;\n",
    "* Um código criado para indicar algo;\n",
    "* Valor coorespondente a outra coluna.\n",
    "* Entre outras...\n",
    "\n",
    "Nossa primeira abordagem para identificar o problema é descobrir quais são os valores que aparecem nessa base de dados, pois, além do 88888, podem aparecer outros valores extremos."
   ]
  },
  {
   "cell_type": "code",
   "execution_count": 22,
   "metadata": {},
   "outputs": [
    {
     "data": {
      "text/plain": [
       "array([    0,     1,    18,     2,     3,     9,     7,    10,     5,\n",
       "          11,     4,     8,    15,     6, 88888,    21,    20,    17,\n",
       "          13,    22,    14,    16,    12,    25,    19,    50,    23,\n",
       "          32,    24,    45,    34,    26,    48,    64,    43,    30,\n",
       "          35,    81,    42])"
      ]
     },
     "execution_count": 22,
     "metadata": {},
     "output_type": "execute_result"
    }
   ],
   "source": [
    "dataframe_treated['QT_EQUIP_TV'].unique()"
   ]
  },
  {
   "cell_type": "markdown",
   "metadata": {},
   "source": [
    "Esse é um resultado interessante. Muitos desses valores não condizem com a realidade da maior parte das escolas brasileiras, já que ter, por exemplo, uma escola 45 TVs,já não é algo tão alinhado com a realidade brasileira. Contudo, tudo dependa da frequencia do aparecimento desses valores, já que existir, em todo brasil, poucas escola com 40 televisões, não é algo impossivel. Junto a isso, podemos notar que por a mediana ser 0, mais da metade dos valores são 0, indicando que grande incidência de valores menores. Porém, por ter uma média em torno de 100, pode-se notar que esses outros valores, **principalmente o 88888** aparecem com uma frequência considerável.  \n",
    "Então, vamos analisar a frequência desses valores:\n"
   ]
  },
  {
   "cell_type": "code",
   "execution_count": 26,
   "metadata": {},
   "outputs": [
    {
     "name": "stdout",
     "output_type": "stream",
     "text": [
      "{0: 41724, 1: 23242, 2: 8732, 3: 3114, 4: 1464, 5: 754, 6: 381, 7: 257, 8: 204, 10: 152, 9: 109, 88888: 85, 11: 79, 12: 75, 13: 41, 14: 33, 20: 31, 16: 25, 15: 19, 17: 15, 18: 13, 19: 11, 22: 8, 21: 7, 25: 5, 23: 4, 24: 3, 50: 2, 32: 2, 45: 2, 34: 2, 26: 2, 30: 2, 48: 1, 64: 1, 43: 1, 35: 1, 81: 1, 42: 1}\n"
     ]
    }
   ],
   "source": [
    "print(dataframe_treated['QT_EQUIP_TV'].value_counts().to_dict())"
   ]
  },
  {
   "cell_type": "markdown",
   "metadata": {},
   "source": [
    "Assim, podemos notar que todos esses valores se tratam de **outliers**. Podemos verificar isso usando os quartis posteriormente. Por agora, outra coisa interessante de se analisar, é que há a ocorrência de 85 valores 88888, o que descarta a possibilidade de ser um erro de digitação. Então, a próxima análise apropriada, é verificar o que consta no dicionário de dados.  \n",
    "Com o dicionário de dados, conseguimos entender de onde vem o esse valor. Segundo consta no dicionário:  \n",
    "\n",
    "<center>'88888 - registro com marcação de valor extremo (valor superior ao limite máximo de 4 equipamentos para cada 3 salas existentes - foram marcados apenas valores>3)'<center>\n",
    "\n",
    "Ou seja, esses valores são grandes a ponto de não serem retratados, mas nem perto de 88888. Com isso, podemos escolher duas abordagem para tratar esse dado.  \n",
    "\n",
    "1. Podemos simplesmente excluir as linhas com esses dados, já que são apenas 85 ocorrências;\n",
    "2. Podemos substituir pelo maior valor retratado, mantendo a informação que se trata de um outlier.\n",
    "\n",
    "Dessas, a que ha menor perda de informação é a segunda opção. Contudo iremos executar as duas para ver a diferença entre as abordagens."
   ]
  },
  {
   "cell_type": "code",
   "execution_count": 11,
   "metadata": {},
   "outputs": [
    {
     "name": "stdout",
     "output_type": "stream",
     "text": [
      "Retirando os valores 88888 ficamos com:\n",
      "A média é: 0.919; \n",
      "A mediana é: 0.0; \n",
      "A moda é: 0\n",
      "O desvio padrão é: 1.732; \n",
      "A variância é: 2.999; \n",
      "O valor máximo é: 81; \n",
      "O valor mínimo é: 0; \n",
      "A amplitude é de: 81 \n",
      "\n",
      "Alterando os valores 88888 para 81 ficamos com:\n",
      "A média é: 1.004; \n",
      "A mediana é: 0.0; \n",
      "A moda é: 0\n",
      "O desvio padrão é: 3.123; \n",
      "A variância é: 9.751; \n",
      "O valor máximo é: 81; \n",
      "O valor mínimo é: 0; \n",
      "A amplitude é de: 81 \n",
      "\n"
     ]
    }
   ],
   "source": [
    "dataframe_with_max_value = dataframe_treated.replace(88888, 81)\n",
    "dataframe_value_deleted = dataframe_treated.drop(dataframe_treated[dataframe_treated['QT_EQUIP_TV'] == 88888 ].index)\n",
    "\n",
    "tv_measure_tendency = da.measure_tendency(serie_value_deleted, 'QT_EQUIP_TV')\n",
    "tv_measure_dipresion = da.measure_dispersion(serie_value_deleted, 'QT_EQUIP_TV')\n",
    "\n",
    "print('Retirando os valores 88888 ficamos com:')\n",
    "print(f'A média é: {tv_measure_tendency[0]}; \\nA mediana é: {tv_measure_tendency[1]}; \\nA moda é: {tv_measure_tendency[2]}')\n",
    "print(f'O desvio padrão é: {tv_measure_dipresion[0]}; \\nA variância é: {tv_measure_dipresion[1]}; \\nO valor máximo é: {tv_measure_dipresion[2]}; \\nO valor mínimo é: {tv_measure_dipresion[3]}; \\nA amplitude é de: {tv_measure_dipresion[4]} \\n')\n",
    "\n",
    "tv_measure_tendency = da.measure_tendency(serie_with_max_value, 'QT_EQUIP_TV')\n",
    "tv_measure_dipresion = da.measure_dispersion(serie_with_max_value, 'QT_EQUIP_TV')\n",
    "\n",
    "print('Alterando os valores 88888 para 81 ficamos com:')\n",
    "print(f'A média é: {tv_measure_tendency[0]}; \\nA mediana é: {tv_measure_tendency[1]}; \\nA moda é: {tv_measure_tendency[2]}')\n",
    "print(f'O desvio padrão é: {tv_measure_dipresion[0]}; \\nA variância é: {tv_measure_dipresion[1]}; \\nO valor máximo é: {tv_measure_dipresion[2]}; \\nO valor mínimo é: {tv_measure_dipresion[3]}; \\nA amplitude é de: {tv_measure_dipresion[4]} \\n')\n",
    "\n"
   ]
  },
  {
   "cell_type": "markdown",
   "metadata": {},
   "source": [
    "Podemos ver que os valores da média são semelhantes, contudo, no desvio padrão e a variancia há uma grande diferença. Portanto, ficaremos com a estrategia com menos perca de informação entre as duas, que é substituindo os valores pelço maior valor da coluna."
   ]
  }
 ],
 "metadata": {
  "kernelspec": {
   "display_name": "Python 3",
   "language": "python",
   "name": "python3"
  },
  "language_info": {
   "codemirror_mode": {
    "name": "ipython",
    "version": 3
   },
   "file_extension": ".py",
   "mimetype": "text/x-python",
   "name": "python",
   "nbconvert_exporter": "python",
   "pygments_lexer": "ipython3",
   "version": "3.10.8"
  }
 },
 "nbformat": 4,
 "nbformat_minor": 2
}
